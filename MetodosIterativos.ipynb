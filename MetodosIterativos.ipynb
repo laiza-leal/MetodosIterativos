{
  "nbformat": 4,
  "nbformat_minor": 0,
  "metadata": {
    "colab": {
      "provenance": [],
      "authorship_tag": "ABX9TyOBoeJo31riv0HnguuuMqFf",
      "include_colab_link": true
    },
    "kernelspec": {
      "name": "python3",
      "display_name": "Python 3"
    },
    "language_info": {
      "name": "python"
    }
  },
  "cells": [
    {
      "cell_type": "markdown",
      "metadata": {
        "id": "view-in-github",
        "colab_type": "text"
      },
      "source": [
        "<a href=\"https://colab.research.google.com/github/laiza-leal/MetodosIterativos/blob/main/MetodosIterativos.ipynb\" target=\"_parent\"><img src=\"https://colab.research.google.com/assets/colab-badge.svg\" alt=\"Open In Colab\"/></a>"
      ]
    },
    {
      "cell_type": "markdown",
      "source": [
        "Método Gauss-Seidel"
      ],
      "metadata": {
        "id": "6ITRfCVJDtUI"
      }
    },
    {
      "cell_type": "code",
      "source": [
        "from __future__ import division\n",
        "import numpy as np\n",
        "\n",
        "def gauss_seidel(A, b, x0, tol, N):\n",
        "    # Transforma os coeficientes em double\n",
        "    A = A.astype('double')\n",
        "    b = b.astype('double')\n",
        "    x0 = x0.astype('double')\n",
        "\n",
        "    n = np.shape(A)[0]\n",
        "    x = np.copy(x0)\n",
        "    it = 0\n",
        "\n",
        "    # Iterações\n",
        "    while it < N:\n",
        "        it += 1\n",
        "        for i in np.arange(n):\n",
        "            if A[i, i] == 0:  # Verificação de divisão por zero\n",
        "                print(\"Erro! Divisão por zero.\")\n",
        "                return None\n",
        "\n",
        "            x[i] = b[i]\n",
        "            for j in np.concatenate((np.arange(0, i), np.arange(i + 1, n))):\n",
        "                x[i] -= A[i, j] * x[j]\n",
        "            x[i] /= A[i, i]\n",
        "            print(f\"x[{i}] = {x[i]:.6f}, A[{i},{i}] = {A[i, i]}\")\n",
        "\n",
        "        # Verificação de convergência\n",
        "        if np.linalg.norm(x - x0, np.inf) < tol:\n",
        "            print(f\"Convergiu em {it} iterações.\")  # Mensagem de convergência\n",
        "            return x\n",
        "\n",
        "        # Prepara nova iteração\n",
        "        x0 = np.copy(x)\n",
        "\n",
        "    # Se o loop terminar sem erro, significa que a solução convergiu dentro do máximo de iterações\n",
        "    print(f\"Convergiu em {it} iterações.\")  # Mensagem no final, se atingir o máximo de iterações\n",
        "    return x"
      ],
      "metadata": {
        "id": "EeaRp0SyKUBW"
      },
      "execution_count": 27,
      "outputs": []
    },
    {
      "cell_type": "code",
      "source": [
        "# Exemplo de uso\n",
        "if __name__ == \"__main__\":\n",
        "    # Matriz dos coeficientes\n",
        "    A = np.array([[4, -1, 0, 0],\n",
        "                  [-1, 4, -1, 0],\n",
        "                  [0, -1, 4, -1],\n",
        "                  [0, 0, -1, 3]])\n",
        "\n",
        "    # Vetor do lado direito\n",
        "    b = np.array([15, 10, 10, 10])\n",
        "\n",
        "    # Estimativa inicial\n",
        "    x0 = np.zeros(4)\n",
        "\n",
        "    # Tolerância e número máximo de iterações\n",
        "    tol = 1e-8\n",
        "    N = 100\n",
        "\n",
        "    # Chamada da função\n",
        "    try:\n",
        "        solucao = gauss_seidel(A, b, x0, tol, N)\n",
        "        if solucao is not None:\n",
        "            print(\"Solução encontrada:\", solucao)\n",
        "    except NameError as e:\n",
        "        print(e)"
      ],
      "metadata": {
        "colab": {
          "base_uri": "https://localhost:8080/"
        },
        "id": "llNsGUZYHqnP",
        "outputId": "eb946eee-f551-4cc7-d2af-b6bc495ef5c8"
      },
      "execution_count": 41,
      "outputs": [
        {
          "output_type": "stream",
          "name": "stdout",
          "text": [
            "x[0] = 3.750000, A[0,0] = 4.0\n",
            "x[1] = 3.437500, A[1,1] = 4.0\n",
            "x[2] = 3.359375, A[2,2] = 4.0\n",
            "x[3] = 4.453125, A[3,3] = 3.0\n",
            "x[0] = 4.609375, A[0,0] = 4.0\n",
            "x[1] = 4.492188, A[1,1] = 4.0\n",
            "x[2] = 4.736328, A[2,2] = 4.0\n",
            "x[3] = 4.912109, A[3,3] = 3.0\n",
            "x[0] = 4.873047, A[0,0] = 4.0\n",
            "x[1] = 4.902344, A[1,1] = 4.0\n",
            "x[2] = 4.953613, A[2,2] = 4.0\n",
            "x[3] = 4.984538, A[3,3] = 3.0\n",
            "x[0] = 4.975586, A[0,0] = 4.0\n",
            "x[1] = 4.982300, A[1,1] = 4.0\n",
            "x[2] = 4.991709, A[2,2] = 4.0\n",
            "x[3] = 4.997236, A[3,3] = 3.0\n",
            "x[0] = 4.995575, A[0,0] = 4.0\n",
            "x[1] = 4.996821, A[1,1] = 4.0\n",
            "x[2] = 4.998514, A[2,2] = 4.0\n",
            "x[3] = 4.999505, A[3,3] = 3.0\n",
            "x[0] = 4.999205, A[0,0] = 4.0\n",
            "x[1] = 4.999430, A[1,1] = 4.0\n",
            "x[2] = 4.999734, A[2,2] = 4.0\n",
            "x[3] = 4.999911, A[3,3] = 3.0\n",
            "x[0] = 4.999857, A[0,0] = 4.0\n",
            "x[1] = 4.999898, A[1,1] = 4.0\n",
            "x[2] = 4.999952, A[2,2] = 4.0\n",
            "x[3] = 4.999984, A[3,3] = 3.0\n",
            "x[0] = 4.999974, A[0,0] = 4.0\n",
            "x[1] = 4.999982, A[1,1] = 4.0\n",
            "x[2] = 4.999991, A[2,2] = 4.0\n",
            "x[3] = 4.999997, A[3,3] = 3.0\n",
            "x[0] = 4.999995, A[0,0] = 4.0\n",
            "x[1] = 4.999997, A[1,1] = 4.0\n",
            "x[2] = 4.999998, A[2,2] = 4.0\n",
            "x[3] = 4.999999, A[3,3] = 3.0\n",
            "x[0] = 4.999999, A[0,0] = 4.0\n",
            "x[1] = 4.999999, A[1,1] = 4.0\n",
            "x[2] = 5.000000, A[2,2] = 4.0\n",
            "x[3] = 5.000000, A[3,3] = 3.0\n",
            "x[0] = 5.000000, A[0,0] = 4.0\n",
            "x[1] = 5.000000, A[1,1] = 4.0\n",
            "x[2] = 5.000000, A[2,2] = 4.0\n",
            "x[3] = 5.000000, A[3,3] = 3.0\n",
            "x[0] = 5.000000, A[0,0] = 4.0\n",
            "x[1] = 5.000000, A[1,1] = 4.0\n",
            "x[2] = 5.000000, A[2,2] = 4.0\n",
            "x[3] = 5.000000, A[3,3] = 3.0\n",
            "x[0] = 5.000000, A[0,0] = 4.0\n",
            "x[1] = 5.000000, A[1,1] = 4.0\n",
            "x[2] = 5.000000, A[2,2] = 4.0\n",
            "x[3] = 5.000000, A[3,3] = 3.0\n",
            "x[0] = 5.000000, A[0,0] = 4.0\n",
            "x[1] = 5.000000, A[1,1] = 4.0\n",
            "x[2] = 5.000000, A[2,2] = 4.0\n",
            "x[3] = 5.000000, A[3,3] = 3.0\n",
            "Convergiu em 14 iterações.\n",
            "Solução encontrada: [5. 5. 5. 5.]\n"
          ]
        }
      ]
    },
    {
      "cell_type": "code",
      "source": [
        "# Validação da solução\n",
        "Ax = np.dot(A, solucao)\n",
        "print(\"Ax:\", Ax)\n",
        "print(\"b:\", b)\n",
        "# Cálculo do erro\n",
        "print(\"Erro (Ax - b):\", np.linalg.norm(Ax - b))"
      ],
      "metadata": {
        "colab": {
          "base_uri": "https://localhost:8080/"
        },
        "id": "JS11ub-UAnZ5",
        "outputId": "d7beefde-0d10-49fe-817d-98ed74bc2052"
      },
      "execution_count": 29,
      "outputs": [
        {
          "output_type": "stream",
          "name": "stdout",
          "text": [
            "Ax: [15. 10. 10. 10.]\n",
            "b: [15 10 10 10]\n",
            "Erro (Ax - b): 3.1049889006831702e-09\n"
          ]
        }
      ]
    },
    {
      "cell_type": "markdown",
      "source": [
        "Método Gauss-Jacobi\n",
        "\n",
        " Usa apenas os valores da estimativa anterior (x0) para calcular o novo x.\n",
        "\n",
        " Ambos produzem resultados semelhantes, mas com diferentes números de iterações."
      ],
      "metadata": {
        "id": "cy5U-0tSERy6"
      }
    },
    {
      "cell_type": "code",
      "source": [
        "import numpy as np\n",
        "from numpy import linalg\n",
        "\n",
        "def jacobi(A, b, x0, tol, N):\n",
        "    # Verificar se A é quadrada\n",
        "    if A.shape[0] != A.shape[1]:\n",
        "        raise ValueError(\"Erro: A matriz A deve ser quadrada.\")\n",
        "\n",
        "    # Verificar compatibilidade de A e b\n",
        "    if A.shape[0] != len(b):\n",
        "        raise ValueError(\"Erro: A matriz A e o vetor b não são compatíveis.\")\n",
        "\n",
        "    # Verificar zeros na diagonal\n",
        "    if np.any(np.diag(A) == 0):\n",
        "        raise ValueError(\"Erro: A matriz A contém zero na diagonal principal.\")\n",
        "\n",
        "    # Verificar dominância diagonal (aviso)\n",
        "    def eh_dominante_diagonal(A):\n",
        "        for i in range(len(A)):\n",
        "            soma = sum(abs(A[i, j]) for j in range(len(A)) if i != j)\n",
        "            if abs(A[i, i]) <= soma:\n",
        "                return False\n",
        "        return True\n",
        "\n",
        "    if not eh_dominante_diagonal(A):\n",
        "        print(\"Aviso: A matriz A não é diagonal dominante. O método pode não convergir.\")\n",
        "\n",
        "    # Conversão dos dados para double\n",
        "    A = A.astype('double')\n",
        "    b = b.astype('double')\n",
        "    x0 = x0.astype('double')\n",
        "\n",
        "    n = np.shape(A)[0]\n",
        "    x = np.zeros(n)\n",
        "    it = 0\n",
        "\n",
        "    # Iterações do método de Jacobi\n",
        "    while it < N:\n",
        "        it += 1\n",
        "\n",
        "        # Calcula cada componente de x\n",
        "        for i in np.arange(n):\n",
        "            x[i] = b[i]\n",
        "            for j in np.concatenate((np.arange(0, i), np.arange(i + 1, n))):\n",
        "                x[i] -= A[i, j] * x0[j]\n",
        "            x[i] /= A[i, i]\n",
        "\n",
        "        # Verificar a tolerância\n",
        "        if np.linalg.norm(x - x0, np.inf) < tol:\n",
        "            print(f\"Convergiu em {it} iterações.\")\n",
        "            return x\n",
        "\n",
        "        # Preparar para próxima iteração\n",
        "        x0 = np.copy(x)\n",
        "\n",
        "    raise NameError(\"Número máximo de iterações excedido.\")\n"
      ],
      "metadata": {
        "id": "rVugL0QUGv7S"
      },
      "execution_count": 30,
      "outputs": []
    },
    {
      "cell_type": "code",
      "source": [
        "# Definindo o sistema Ax = b\n",
        "A = np.array([[10, -1, 2, 0],\n",
        "              [-1, 11, -1, 3],\n",
        "              [2, -1, 10, -1],\n",
        "              [0, 3, -1, 8]], dtype='double')\n",
        "\n",
        "b = np.array([6, 25, -11, 15], dtype='double')\n",
        "x0 = np.zeros(len(b))  # Chute inicial (vetor de zeros)\n",
        "\n",
        "# Configuração\n",
        "tol = 1e-8  # Tolerância\n",
        "N = 100     # Número máximo de iterações\n",
        "\n",
        "# Chamando o método de Jacobi\n",
        "try:\n",
        "    solucao = jacobi(A, b, x0, tol, N)\n",
        "    print(\"Solução encontrada:\", solucao)\n",
        "    # Validar o erro\n",
        "    erro = np.linalg.norm(np.dot(A, solucao) - b)\n",
        "    print(\"Erro (Ax - b):\", erro)\n",
        "except Exception as e:\n",
        "    print(\"Erro:\", e)\n"
      ],
      "metadata": {
        "colab": {
          "base_uri": "https://localhost:8080/"
        },
        "id": "_e6MH4cjFkfi",
        "outputId": "6d7f384e-1c57-4dd0-81fe-93bb4a6e5e8b"
      },
      "execution_count": 36,
      "outputs": [
        {
          "output_type": "stream",
          "name": "stdout",
          "text": [
            "Convergiu em 24 iterações.\n",
            "Solução encontrada: [ 1.  2. -1.  1.]\n",
            "Erro (Ax - b): 3.4429992726578683e-08\n"
          ]
        }
      ]
    }
  ]
}